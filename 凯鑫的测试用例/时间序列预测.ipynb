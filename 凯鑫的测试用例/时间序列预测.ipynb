{
 "cells": [
  {
   "cell_type": "markdown",
   "source": [
    "首先导入相关的库，注意安装autogluon的时候记得关VPN，不然pycharm老是在报错"
   ],
   "metadata": {
    "collapsed": false
   },
   "id": "897f3c4bcdba014d"
  },
  {
   "cell_type": "code",
   "execution_count": 15,
   "id": "initial_id",
   "metadata": {
    "collapsed": true,
    "ExecuteTime": {
     "end_time": "2023-08-22T12:52:53.822326900Z",
     "start_time": "2023-08-22T12:52:53.736925Z"
    }
   },
   "outputs": [],
   "source": [
    "import numpy as np\n",
    "import pandas as pd\n",
    "import matplotlib.pyplot as plt\n",
    "from autogluon.timeseries import TimeSeriesDataFrame, TimeSeriesPredictor"
   ]
  },
  {
   "cell_type": "markdown",
   "source": [
    "读取数据，这里使用的是m4的小时数据集，总共有148060行数据，每行数据有三列\n",
    "一列是物品名称，item_id,一列是时间戳，timestamp，一列是目标值，target"
   ],
   "metadata": {
    "collapsed": false
   },
   "id": "e74b43240fa074d"
  },
  {
   "cell_type": "code",
   "execution_count": 17,
   "outputs": [
    {
     "data": {
      "text/plain": "  item_id            timestamp  target\n0      H1  1750-01-01 00:00:00   605.0\n1      H1  1750-01-01 01:00:00   586.0\n2      H1  1750-01-01 02:00:00   586.0\n3      H1  1750-01-01 03:00:00   559.0\n4      H1  1750-01-01 04:00:00   511.0",
      "text/html": "<div>\n<style scoped>\n    .dataframe tbody tr th:only-of-type {\n        vertical-align: middle;\n    }\n\n    .dataframe tbody tr th {\n        vertical-align: top;\n    }\n\n    .dataframe thead th {\n        text-align: right;\n    }\n</style>\n<table border=\"1\" class=\"dataframe\">\n  <thead>\n    <tr style=\"text-align: right;\">\n      <th></th>\n      <th>item_id</th>\n      <th>timestamp</th>\n      <th>target</th>\n    </tr>\n  </thead>\n  <tbody>\n    <tr>\n      <th>0</th>\n      <td>H1</td>\n      <td>1750-01-01 00:00:00</td>\n      <td>605.0</td>\n    </tr>\n    <tr>\n      <th>1</th>\n      <td>H1</td>\n      <td>1750-01-01 01:00:00</td>\n      <td>586.0</td>\n    </tr>\n    <tr>\n      <th>2</th>\n      <td>H1</td>\n      <td>1750-01-01 02:00:00</td>\n      <td>586.0</td>\n    </tr>\n    <tr>\n      <th>3</th>\n      <td>H1</td>\n      <td>1750-01-01 03:00:00</td>\n      <td>559.0</td>\n    </tr>\n    <tr>\n      <th>4</th>\n      <td>H1</td>\n      <td>1750-01-01 04:00:00</td>\n      <td>511.0</td>\n    </tr>\n  </tbody>\n</table>\n</div>"
     },
     "execution_count": 17,
     "metadata": {},
     "output_type": "execute_result"
    }
   ],
   "source": [
    "df = pd.read_csv(\"https://autogluon.s3.amazonaws.com/datasets/timeseries/m4_hourly_subset/train.csv\")\n",
    "df.head()"
   ],
   "metadata": {
    "collapsed": false,
    "ExecuteTime": {
     "end_time": "2023-08-22T12:54:06.386596600Z",
     "start_time": "2023-08-22T12:54:03.079188200Z"
    }
   },
   "id": "604f24a1dc80d4f4"
  },
  {
   "cell_type": "markdown",
   "source": [
    "# autogluon对数据格式的要求\n",
    "1. 独特的时间序列id，可为int或者str类型\n",
    "2. 时间戳必须是满足pd.Timestamp的格式 2018-03-17 22:15:15\n",
    "3. 数值型的目标值target\n",
    "至少要有这三列，其他的列可以有，也可以没有\n",
    "但是我们在创造TimeSeriesDataFrame的时候，需要指定哪一列是时间序列id，哪一列是时间戳，哪一列是目标值\n",
    "如果格式不匹配，会报错"
   ],
   "metadata": {
    "collapsed": false
   },
   "id": "e0f094d64a398db1"
  },
  {
   "cell_type": "code",
   "execution_count": 18,
   "outputs": [
    {
     "data": {
      "text/plain": "                             target\nitem_id timestamp                  \nH1      1750-01-01 00:00:00   605.0\n        1750-01-01 01:00:00   586.0\n        1750-01-01 02:00:00   586.0\n        1750-01-01 03:00:00   559.0\n        1750-01-01 04:00:00   511.0",
      "text/html": "<div>\n<style scoped>\n    .dataframe tbody tr th:only-of-type {\n        vertical-align: middle;\n    }\n\n    .dataframe tbody tr th {\n        vertical-align: top;\n    }\n\n    .dataframe thead th {\n        text-align: right;\n    }\n</style>\n<table border=\"1\" class=\"dataframe\">\n  <thead>\n    <tr style=\"text-align: right;\">\n      <th></th>\n      <th></th>\n      <th>target</th>\n    </tr>\n    <tr>\n      <th>item_id</th>\n      <th>timestamp</th>\n      <th></th>\n    </tr>\n  </thead>\n  <tbody>\n    <tr>\n      <th rowspan=\"5\" valign=\"top\">H1</th>\n      <th>1750-01-01 00:00:00</th>\n      <td>605.0</td>\n    </tr>\n    <tr>\n      <th>1750-01-01 01:00:00</th>\n      <td>586.0</td>\n    </tr>\n    <tr>\n      <th>1750-01-01 02:00:00</th>\n      <td>586.0</td>\n    </tr>\n    <tr>\n      <th>1750-01-01 03:00:00</th>\n      <td>559.0</td>\n    </tr>\n    <tr>\n      <th>1750-01-01 04:00:00</th>\n      <td>511.0</td>\n    </tr>\n  </tbody>\n</table>\n</div>"
     },
     "execution_count": 18,
     "metadata": {},
     "output_type": "execute_result"
    }
   ],
   "source": [
    "train_data = TimeSeriesDataFrame.from_data_frame(\n",
    "    df,\n",
    "    id_column=\"item_id\",\n",
    "    timestamp_column=\"timestamp\"\n",
    ")\n",
    "train_data.head()"
   ],
   "metadata": {
    "collapsed": false,
    "ExecuteTime": {
     "end_time": "2023-08-22T12:54:09.336351900Z",
     "start_time": "2023-08-22T12:54:09.090040400Z"
    }
   },
   "id": "b0d0dbe03f9bc5ec"
  },
  {
   "cell_type": "markdown",
   "source": [
    "我们可以看到，train_data的格式是TimeSeriesDataFrame，这是autogluon自己定义的数据格式\n",
    "H1表示的是一只股票的时间序列，H2表示的是另一只股票的时间序列\n",
    "Autogluon单独为每个时间序列生成预测,并不是对不同的序列之间的交互进行预测\n",
    "同时为了预测未来的值我们需要创建一个time series predictor\n",
    "prediction_length表示的是我们要预测的未来的时间长度,这里我们预测未来48个小时的值\n",
    "path表示的是我们训练好的模型的保存路径\n",
    "target表示的是我们要预测的目标值\n",
    "eval_metric表示的是我们的评估指标，这里我们使用的是MASE\n",
    "presets表示训练的质量,还有选择是high_quality但是训练时间会更长\n",
    "time_limit表示的是训练的时间限制，这里我们设置的是600秒\n",
    "autogluon会自动选择最好的模型，我们也可以自己指定模型"
   ],
   "metadata": {
    "collapsed": false
   },
   "id": "8b194c05e0df109b"
  },
  {
   "cell_type": "code",
   "execution_count": 19,
   "outputs": [
    {
     "name": "stderr",
     "output_type": "stream",
     "text": [
      "================ TimeSeriesPredictor ================\n",
      "TimeSeriesPredictor.fit() called\n",
      "Setting presets to: medium_quality\n",
      "Fitting with arguments:\n",
      "{'enable_ensemble': True,\n",
      " 'evaluation_metric': 'MASE',\n",
      " 'excluded_model_types': None,\n",
      " 'hyperparameter_tune_kwargs': None,\n",
      " 'hyperparameters': 'medium_quality',\n",
      " 'num_val_windows': 1,\n",
      " 'prediction_length': 48,\n",
      " 'random_seed': None,\n",
      " 'target': 'target',\n",
      " 'time_limit': 600,\n",
      " 'verbosity': 2}\n",
      "Provided training data set with 148060 rows, 200 items (item = single time series). Average time series length is 740.3. Data frequency is 'H'.\n",
      "=====================================================\n",
      "AutoGluon will save models to autogluon-m4-hourly\\\n",
      "AutoGluon will gauge predictive performance using evaluation metric: 'MASE'\n",
      "\tThis metric's sign has been flipped to adhere to being 'higher is better'. The reported score can be multiplied by -1 to get the metric value.\n",
      "\n",
      "Provided dataset contains following columns:\n",
      "\ttarget:           'target'\n",
      "\n",
      "Starting training. Start time is 2023-08-22 20:54:12\n",
      "Models that will be trained: ['Naive', 'SeasonalNaive', 'Theta', 'AutoETS', 'RecursiveTabular', 'DeepAR']\n",
      "Training timeseries model Naive. Training for up to 599.88s of the 599.88s of remaining time.\n",
      "\t-6.6629       = Validation score (-MASE)\n",
      "\t0.17    s     = Training runtime\n",
      "\t6.93    s     = Validation (prediction) runtime\n",
      "Training timeseries model SeasonalNaive. Training for up to 592.78s of the 592.78s of remaining time.\n",
      "\t-1.2169       = Validation score (-MASE)\n",
      "\t0.17    s     = Training runtime\n",
      "\t0.27    s     = Validation (prediction) runtime\n",
      "Training timeseries model Theta. Training for up to 592.34s of the 592.34s of remaining time.\n",
      "\t-2.1425       = Validation score (-MASE)\n",
      "\t0.16    s     = Training runtime\n",
      "\t39.32   s     = Validation (prediction) runtime\n",
      "Training timeseries model AutoETS. Training for up to 552.85s of the 552.85s of remaining time.\n",
      "\t-1.9400       = Validation score (-MASE)\n",
      "\t0.16    s     = Training runtime\n",
      "\t59.41   s     = Validation (prediction) runtime\n",
      "Training timeseries model RecursiveTabular. Training for up to 493.27s of the 493.27s of remaining time.\n",
      "\t-0.8988       = Validation score (-MASE)\n",
      "\t10.05   s     = Training runtime\n",
      "\t1.93    s     = Validation (prediction) runtime\n",
      "Training timeseries model DeepAR. Training for up to 481.27s of the 481.27s of remaining time.\n",
      "\n",
      "KeyboardInterrupt\n",
      "\n"
     ]
    }
   ],
   "source": [
    "predictor = TimeSeriesPredictor(\n",
    "    prediction_length=48,\n",
    "    path=\"autogluon-m4-hourly\",\n",
    "    target=\"target\",\n",
    "    eval_metric=\"MASE\",\n",
    ")\n",
    "\n",
    "predictor.fit(\n",
    "    train_data,\n",
    "    presets=\"medium_quality\",\n",
    "    time_limit=600,\n",
    ")"
   ],
   "metadata": {
    "collapsed": false,
    "ExecuteTime": {
     "end_time": "2023-08-22T13:01:16.972914600Z",
     "start_time": "2023-08-22T12:54:12.660823600Z"
    }
   },
   "id": "eb3c9b76cb702b1c"
  },
  {
   "cell_type": "markdown",
   "source": [
    "autogluon还会产生概率预测,它还提供分布的置信区间,让我们了解结果的可能范围\n",
    "for example,0.1表示你有10%的可能性会低于这个值(有点类似正态分布"
   ],
   "metadata": {
    "collapsed": false
   },
   "id": "fe4a7ef9d7f4c276"
  },
  {
   "cell_type": "code",
   "execution_count": null,
   "outputs": [],
   "source": [
    "predictions = predictor.predict(train_data)\n",
    "predictions.head()"
   ],
   "metadata": {
    "collapsed": false,
    "ExecuteTime": {
     "start_time": "2023-08-22T12:53:18.191396100Z"
    }
   },
   "id": "76ed4711d3b2b0af"
  },
  {
   "cell_type": "markdown",
   "source": [
    "我们现在可视化一下预测的结果和真实值的对比\n",
    "我们绘制 mean forecast 以及0.1和0.9所在的置信区间"
   ],
   "metadata": {
    "collapsed": false
   },
   "id": "423dd2e3cd064c4d"
  },
  {
   "cell_type": "code",
   "execution_count": null,
   "outputs": [],
   "source": [
    "import matplotlib.pyplot as plt\n",
    "\n",
    "# TimeSeriesDataFrame can also be loaded directly from a file\n",
    "test_data = TimeSeriesDataFrame.from_path(\"https://autogluon.s3.amazonaws.com/datasets/timeseries/m4_hourly_subset/test.csv\")\n",
    "\n",
    "plt.figure(figsize=(20, 3))\n",
    "\n",
    "item_id = \"H1\"\n",
    "y_past = train_data.loc[item_id][\"target\"]\n",
    "y_pred = predictions.loc[item_id]\n",
    "y_test = test_data.loc[item_id][\"target\"][-48:]\n",
    "\n",
    "plt.plot(y_past[-200:], label=\"Past time series values\")\n",
    "plt.plot(y_pred[\"mean\"], label=\"Mean forecast\")\n",
    "plt.plot(y_test, label=\"Future time series values\")\n",
    "\n",
    "plt.fill_between(\n",
    "    y_pred.index, y_pred[\"0.1\"], y_pred[\"0.9\"], color=\"red\", alpha=0.1, label=f\"10%-90% confidence interval\"\n",
    ")\n",
    "plt.legend();"
   ],
   "metadata": {
    "collapsed": false,
    "ExecuteTime": {
     "end_time": "2023-08-22T12:53:18.197393100Z",
     "start_time": "2023-08-22T12:53:18.194394300Z"
    }
   },
   "id": "7212b5b6ebd0c8e7"
  },
  {
   "cell_type": "markdown",
   "source": [
    "# 评估不同模型的效果\n",
    "我们可以使用autogluon的leaderboard来评估不同模型的效果"
   ],
   "metadata": {
    "collapsed": false
   },
   "id": "eb7cd48c3c2f099a"
  },
  {
   "cell_type": "code",
   "execution_count": null,
   "outputs": [],
   "source": [
    "# The test score is computed using the last\n",
    "# prediction_length=48 timesteps of each time series in test_data\n",
    "predictor.leaderboard(test_data, silent=True)"
   ],
   "metadata": {
    "collapsed": false,
    "ExecuteTime": {
     "start_time": "2023-08-22T12:53:18.196393700Z"
    }
   },
   "id": "cdf9a8e70e03c260"
  },
  {
   "cell_type": "markdown",
   "source": [
    "# 总结\n",
    "1. autogluon不需要调参数\n",
    "2. 数据结构一定要满足time series dataframe的要求"
   ],
   "metadata": {
    "collapsed": false
   },
   "id": "59c1139fa9a49c67"
  },
  {
   "cell_type": "markdown",
   "source": [],
   "metadata": {
    "collapsed": false
   },
   "id": "188629d4d2169c4"
  }
 ],
 "metadata": {
  "kernelspec": {
   "display_name": "Python 3",
   "language": "python",
   "name": "python3"
  },
  "language_info": {
   "codemirror_mode": {
    "name": "ipython",
    "version": 2
   },
   "file_extension": ".py",
   "mimetype": "text/x-python",
   "name": "python",
   "nbconvert_exporter": "python",
   "pygments_lexer": "ipython2",
   "version": "2.7.6"
  }
 },
 "nbformat": 4,
 "nbformat_minor": 5
}
